{
 "cells": [
  {
   "cell_type": "code",
   "execution_count": null,
   "id": "d5815735",
   "metadata": {},
   "outputs": [
    {
     "name": "stdout",
     "output_type": "stream",
     "text": [
      "Contagem por categoria:\n",
      "categoria_lance\n",
      "Nenhum Lance Previsto ou Real    1549265\n",
      "Lance Real e Previsto             291081\n",
      "Lance Real, Não Previsto               8\n",
      "Name: count, dtype: int64\n"
     ]
    }
   ],
   "source": [
    "import pandas as pd\n",
    "\n",
    "# Carregar os dados\n",
    "df = pd.read_csv(\"viagens_validas_com_previsao_RF.csv\")\n",
    "\n",
    "# Garante que os dados são inteiros para comparação\n",
    "df[\"lance_integrado\"] = df[\"lance_integrado\"].astype(int)\n",
    "df[\"Valor Previsto\"] = df[\"Valor Previsto\"].astype(int)\n",
    "\n",
    "# Classifica cada linha de acordo com a lógica condicional\n",
    "def classificar_linha(lance, previsto):\n",
    "    if lance == 1 and previsto == 1:\n",
    "        return \"Lance Real e Previsto\"\n",
    "    elif lance == 1 and previsto == 0:\n",
    "        return \"Lance Real, Não Previsto\"\n",
    "    elif lance == 0 and previsto == 1:\n",
    "        return \"Previsto, Mas Não Ocorreu\"\n",
    "    else:\n",
    "        return \"Nenhum Lance Previsto ou Real\"\n",
    "\n",
    "# Aplica a classificação\n",
    "df[\"categoria_lance\"] = df.apply(lambda row: classificar_linha(row[\"lance_integrado\"], row[\"Valor Previsto\"]), axis=1)\n",
    "\n",
    "# Conta as ocorrências de cada categoria\n",
    "contagem = df[\"categoria_lance\"].value_counts()\n",
    "\n",
    "# Mostra os resultados\n",
    "print(\"Contagem por categoria:\")\n",
    "print(contagem)"
   ]
  }
 ],
 "metadata": {
  "kernelspec": {
   "display_name": "lcd_scaa",
   "language": "python",
   "name": "python3"
  },
  "language_info": {
   "codemirror_mode": {
    "name": "ipython",
    "version": 3
   },
   "file_extension": ".py",
   "mimetype": "text/x-python",
   "name": "python",
   "nbconvert_exporter": "python",
   "pygments_lexer": "ipython3",
   "version": "3.10.15"
  }
 },
 "nbformat": 4,
 "nbformat_minor": 5
}
